{
 "cells": [
  {
   "cell_type": "markdown",
   "id": "30160b5e",
   "metadata": {},
   "source": [
    "# Workshop 1: Exploring Numerical Summing Schemes\n",
    "\n",
    "<h1 style=\"position: absolute; display: flex; flex-grow: 0; flex-shrink: 0; flex-direction: row-reverse; top: 90px;right: 30px; margin: 0; border: 0\">\n",
    "    <style>\n",
    "        .markdown {width:100%; position: relative}\n",
    "        article { position: relative }\n",
    "    </style>\n",
    "    <img src=\"https://gitlab.tudelft.nl/mude/public/-/raw/main/tu-logo/TU_P1_full-color.png\" style=\"width:100px\" />\n",
    "    <img src=\"https://gitlab.tudelft.nl/mude/public/-/raw/main/mude-logo/MUDE_Logo-small.png\" style=\"width:100px\" />\n",
    "</h1>\n",
    "<h2 style=\"height: 10px\">\n",
    "</h2>\n",
    "\n",
    "*[MUDE in Madras](https://tudelft-mude.github.io/workshop-iitm/): Week 1, November 27, 2024.*\n",
    "\n",
    "*This assignment does not need to be turned in.*"
   ]
  },
  {
   "cell_type": "markdown",
   "id": "82cfc0b4",
   "metadata": {},
   "source": [
    "## Problem definition: Numerical Integration\n",
    "\n",
    "Integration can be used to solve differential equations and to calculate relevant quantities in diverse engineering and scientific problems. When analyzing experiments or numerical models results, a desired physical quantity may be expressed as an integral of measured/model quantities. Sometimes the analytical integration is known, then this is the most accurate and fastest solution, certainly better than computing it numerically. However, it is common that the analytic solution is unknown, then numerical integration is the way to go. \n",
    "\n",
    "\n",
    "You will use a function with a known integral to evaluate how precise numerical integration can be. "
   ]
  },
  {
   "cell_type": "code",
   "execution_count": 1,
   "id": "caebff09-a533-40aa-9115-985c78e45693",
   "metadata": {
    "tags": []
   },
   "outputs": [],
   "source": [
    "import numpy as np\n",
    "import matplotlib.pyplot as plt\n",
    "from scipy.interpolate import make_interp_spline\n",
    "\n",
    "\n",
    "plt.rcParams['figure.figsize'] = (15, 5)  # Set the width and height of plots in inches\n",
    "plt.rcParams.update({'font.size': 13})    # Change this value to your desired font size"
   ]
  },
  {
   "cell_type": "markdown",
   "id": "a6773319",
   "metadata": {},
   "source": []
  },
  {
   "cell_type": "markdown",
   "id": "352f1493",
   "metadata": {},
   "source": [
    "<div style=\"background-color:#AABAB2; color: black; vertical-align: middle; padding:15px; margin: 10px; width:95%; border-radius: 10px\">\n",
    "<p>\n",
    "<b>Task 1:</b>   \n",
    "\n",
    "Calculate and evaluate the following integral by hand: \n",
    "\n",
    "$$I=\\int_a^{b} f\\left(x\\right)\\mathrm{d}x = \\int_0^{3\\pi} \\left(20 \\cos(x)+3x^2\\right)\\mathrm{d}x.$$\n",
    "\n",
    "The result will be later used to explore how diverse numerical integration techniques work and their accuracy. \n",
    "\n",
    "</p>\n",
    "</div>"
   ]
  },
  {
   "cell_type": "markdown",
   "id": "fea89e84",
   "metadata": {},
   "source": [
    "**Function definition**\n",
    "\n",
    "Let's define the python function  \n",
    "\n",
    "\n",
    "$$f\\left(x\\right) = \\left(20 \\cos x+3x^2\\right)$$ "
   ]
  },
  {
   "cell_type": "code",
   "execution_count": 2,
   "id": "98e6e3b6",
   "metadata": {},
   "outputs": [],
   "source": [
    "# Define the function to be later integrated\n",
    "def f(x):\n",
    "    return 20*np.cos(x)+3*x**2"
   ]
  },
  {
   "cell_type": "markdown",
   "id": "cd6b9447",
   "metadata": {},
   "source": [
    "<div style=\"background-color:#AABAB2; color: black; vertical-align: middle; padding:15px; margin: 10px; width:95%; border-radius: 10px\">\n",
    "<p>\n",
    "<b>Task 2:</b>   \n",
    "\n",
    "Below, call the function f written above to evaluate it at x=0. \n",
    "</p>\n",
    "</div>"
   ]
  },
  {
   "cell_type": "code",
   "execution_count": null,
   "id": "de1759f8",
   "metadata": {},
   "outputs": [],
   "source": [
    "f_at_x_equal_0 = YOUR_CODE_HERE\n",
    "\n",
    "print(\"f evaluated at x=0 is:\" , f_at_x_equal_0)"
   ]
  },
  {
   "cell_type": "markdown",
   "id": "f3bbdf8c",
   "metadata": {},
   "source": [
    "<div style=\"background-color:#facb8e; color: black; vertical-align: middle; padding:15px; margin: 10px; width:95%; border-radius: 10px\">\n",
    "<p>\n",
    "<b>NOTE:</b> Calling f(x) is equivalent to evaluating it! \n",
    "\n",
    "</p>\n",
    "</div>"
   ]
  },
  {
   "cell_type": "markdown",
   "id": "1c3d671e",
   "metadata": {},
   "source": [
    "**Define an x vector to evaluate the function**\n",
    "\n",
    "The function `f(x)` exists in \"all space\". However, the integration is bounded to the limits `a to b`, $I=\\int_a^{b} f\\left(x\\right)\\mathrm{d}x = \\int_0^{3\\pi} \\left(20 \\cos(x)+3x^2\\right)\\mathrm{d}x$. \n",
    "\n",
    "<br><br>\n",
    "Use those limits to create an x array using `linspace(a,b,n)`,  where `a` is the limit to the left, `b` is the limit to the right and `n` is the number of points. Below you see the case with 5 points.\n",
    "\n",
    "<img src=\"linspace.jpg\" style=\"height:100px\" />\n"
   ]
  },
  {
   "cell_type": "markdown",
   "id": "add4309b",
   "metadata": {},
   "source": [
    "<div style=\"background-color:#AABAB2; color: black; vertical-align: middle; padding:15px; margin: 10px; width:95%; border-radius: 10px\">\n",
    "<p>\n",
    "<b>Task 3:</b>   \n",
    "\n",
    "Define the intervals `a,b` and the number of points needed to have a subinterval length $\\Delta x=\\pi$. \n",
    "</p>\n",
    "</div>"
   ]
  },
  {
   "cell_type": "code",
   "execution_count": null,
   "id": "4b85d2a4",
   "metadata": {},
   "outputs": [],
   "source": [
    "a = YOUR_CODE_HERE\n",
    "b = YOUR_CODE_HERE\n",
    "number_of_points = YOUR_CODE_HERE\n",
    "\n",
    "x_values = np.linspace(YOUR_CODE_HERE)\n",
    "dx = x_values[1]-x_values[0]\n",
    "\n",
    "print(\"x  = \",x_values)\n",
    "\n",
    "\n",
    "\n",
    "# test dx value\n",
    "assert abs(dx - np.pi)<1e-5, \"Oops! dx is not equal to pi. Please check your values for a, b and number of points.\""
   ]
  },
  {
   "cell_type": "markdown",
   "id": "ec5511fb",
   "metadata": {},
   "source": [
    "<div style=\"background-color:#AABAB2; color: black; vertical-align: middle; padding:15px; margin: 10px; width:95%; border-radius: 10px\">\n",
    "<p>\n",
    "<b>Task 4:</b>   \n",
    "\n",
    "How do the number of points and number of subintervals relate? Write a brief answer below.\n",
    "</p>\n",
    "</div>"
   ]
  },
  {
   "cell_type": "markdown",
   "id": "098d751a",
   "metadata": {},
   "source": [
    "**answer**: "
   ]
  },
  {
   "cell_type": "markdown",
   "id": "1049c443",
   "metadata": {},
   "source": [
    "**Visualize a \"continuous\" function and list comprehension**\n",
    "\n",
    "For visualization purposes in the rest of the notebook, `f(x)` is here evaluated with high resolution. A \"list comprehension\" method is used for this purpose. **Understanding \"list comprehensions\" is essential to solve the rest of the notebook**.\n"
   ]
  },
  {
   "cell_type": "markdown",
   "id": "d17856b3",
   "metadata": {},
   "source": [
    "**Visualize a \"continuous\" function and list comprehension**\n",
    "\n",
    "For visualization purposes in the rest of the notebook, `f(x)` is here evaluated with high resolution. A \"list comprehension\" method is used for this purpose, which is a special feature of the Python programming language (you learned about it in the PA!).\n"
   ]
  },
  {
   "cell_type": "markdown",
   "id": "12e2ea3d",
   "metadata": {},
   "source": [
    "<div style=\"background-color:#AABAB2; color: black; width:95%; vertical-align: middle; padding:15px; margin: 10px; border-radius: 10px\">\n",
    "<p>\n",
    "<b>Task 5:</b>   \n",
    "\n",
    "Three equivalent solutions to define <code>f_high_resolution</code> are shown below. The first one loops <code>x_high_resolution</code> and assigns its values to x, which is then used to evaluate f. \n",
    "\n",
    "The second one creates an index list based on the number of points contained in <code>x_high_resolution</code>, then loops it to evaluate f at each element of <code>x_high_resolution</code>.\n",
    "\n",
    "The third simply uses a function to evaluate the values.\n",
    "\n",
    "Which method do you find easier to read/write?\n",
    "</p>\n",
    "</div>"
   ]
  },
  {
   "cell_type": "markdown",
   "id": "84f395cb",
   "metadata": {},
   "source": [
    "<div style=\"background-color:#facb8e; color: black; vertical-align: middle; padding:15px; margin: 10px; width:95%; border-radius: 10px\">\n",
    "<p>\n",
    "<b>NOTE:</b> although list comprehensions may look more cumbersome here, it is important tool to learn, as in more complex code it can help make the algorithm easier to read and write. In terms of computation time, list comprehensions are faster than \"regular\" for loops (both are native Python features), However, the third approach is actually the fastest in terms of numerical computation time, because Numpy ndarrays (not native Python) are optimized for efficient computation.\n",
    "\n",
    "</p>\n",
    "</div>"
   ]
  },
  {
   "cell_type": "code",
   "execution_count": null,
   "id": "65878405",
   "metadata": {},
   "outputs": [],
   "source": [
    "# To plot a smooth graph of the function\n",
    "x_high_resolution = np.linspace(a, b, 50)\n",
    "\n",
    "f_high_resolution = [ f(x) for x in x_high_resolution ] #first solution\n",
    "\n",
    "f_high_resolution = [ f(x_high_resolution[i]) for i in range(len(x_high_resolution))] #second solution\n",
    "\n",
    "\n",
    "# Plotting\n",
    "plt.plot(x_high_resolution, f_high_resolution, '+', markersize='12', color='black')\n",
    "plt.plot(x_high_resolution, f_high_resolution, 'b')\n",
    "plt.legend(['Points evaluated','Continuous function representation'])\n",
    "plt.title('Function for approximation')\n",
    "plt.xlabel('x')\n",
    "plt.ylabel('$f(x)$');"
   ]
  },
  {
   "cell_type": "markdown",
   "id": "a9ef5459-2ffb-4bde-830c-646264c3648a",
   "metadata": {},
   "source": [
    "<b>The Left Riemann Sum</b>\n",
    "\n",
    "This method approximates an integral by summing the area of rectangles defined with left points of the function:\n",
    "\n",
    "$$I_{_{left}} \\approx \\sum_{i=0}^{n-1} f(x_i)\\Delta x$$\n",
    "\n",
    "From now on, you will use ten points to define the function.\n",
    "<br><br>\n",
    "\n",
    "Let's look at the implementation of the Left Riemann sum following the same methods described in task 5. The differences are that (i) the index of the vector x ignores the last point, (ii) the multiplication by $\\Delta x$ and (iii) the sum of the vector. Thus the result is not an array but a single number.  \n",
    "<br><br>\n",
    "\n"
   ]
  },
  {
   "cell_type": "markdown",
   "id": "80eb6362",
   "metadata": {},
   "source": [
    "<div style=\"background-color:#AABAB2; color: black; vertical-align: middle; padding:15px; margin: 10px; width:95%; border-radius: 10px\">\n",
    "<p>\n",
    "<b>Task 6:</b>   \n",
    "\n",
    "Scrutinize the correct implementations below. Why is it necessary to ignore the last point in x_values? What would happen if you include it?  \n",
    "</p>\n",
    "</div>"
   ]
  },
  {
   "cell_type": "code",
   "execution_count": null,
   "id": "d3a75fe0-017b-4e8a-b729-68412a492854",
   "metadata": {},
   "outputs": [],
   "source": [
    "\n",
    "x_values = np.linspace(a, b, 10) \n",
    "dx = x_values[1]-x_values[0]\n",
    "\n",
    "# Left Riemann summation: 1st option\n",
    "I_left_riemann = sum( [f(x)*dx for x in x_values[:-1]] )  #method 1\n",
    "print(f\"Left Riemann Sum: {I_left_riemann: 0.3f}\")\n",
    "\n",
    "# Left Riemann summation: 2nd option\n",
    "I_left_riemann = sum( [ f(x_values[i])*dx for i in range(len(x_values)-1) ] )  #method 2\n",
    "print(f\"Left Riemann Sum: {I_left_riemann: 0.3f}\")"
   ]
  },
  {
   "cell_type": "markdown",
   "id": "409b0530",
   "metadata": {},
   "source": [
    "<div style=\"background-color:#AABAB2; color: black; vertical-align: middle; padding:15px; margin: 10px; width:95%; border-radius: 10px\">\n",
    "<p>\n",
    "<b>Task 7:</b>   \n",
    "\n",
    "Scrutinize the correct implementation below to visualize the bar plot (plt.bar) and location of the points (plt.plot with '*', in the line code below plt.bar) that define the height of each rectangle. \n",
    "<br>\n",
    "<br>\n",
    "Tip: The bar plot requires one less element than the total number of points defining the function.  \n",
    "</p>\n",
    "</div>"
   ]
  },
  {
   "cell_type": "code",
   "execution_count": null,
   "id": "0c09dc12",
   "metadata": {},
   "outputs": [],
   "source": [
    "# Visualization\n",
    "# Plot the rectangles and left corners of the elements in the riemann sum\n",
    "plt.bar(x_values[:-1],[f(x) for x in x_values[:-1]], width=dx, alpha=0.5, align='edge', edgecolor='black', linewidth=0.25)\n",
    "plt.plot(x_values[:-1],[f(x) for x in x_values[:-1]], '*', markersize='16', color='red')\n",
    "\n",
    "#Plot \"continuous\" function\n",
    "plt.plot(x_high_resolution, f_high_resolution, 'b')\n",
    "plt.title('Left Riemann Sum')\n",
    "plt.xlabel('x')\n",
    "plt.ylabel('$f(x)$');"
   ]
  },
  {
   "cell_type": "markdown",
   "id": "8906e8ab-9aa5-45db-a683-cd40a6729575",
   "metadata": {},
   "source": [
    "**The Right Riemann Method**\n",
    "\n",
    "Similar to the left Riemann sum, this method is also algebraically simple to implement, and can be better suited to some situations, depending on the type of function you are trying to approximate. In this case, the subintervals are defined using the right-hand endpoints from the function and is represented by \n",
    "\n",
    "$$I_{_{right}} \\approx \\sum_{i=1}^n f(x_i)\\Delta x$$\n",
    "\n"
   ]
  },
  {
   "cell_type": "markdown",
   "id": "0bbf4b11",
   "metadata": {},
   "source": [
    "<div style=\"background-color:#AABAB2; color: black; vertical-align: middle; padding:15px; margin: 10px; width:95%; border-radius: 10px\">\n",
    "<p>\n",
    "<b>Task 8:</b>   \n",
    "\n",
    "Complete the code cell below for the right Riemman method.. \n",
    "\n",
    "Tip: Consult the Left Riemann implementation above as a guide.\n",
    "</p>\n",
    "</div>"
   ]
  },
  {
   "cell_type": "code",
   "execution_count": null,
   "id": "3073db6e-430c-4f17-ad88-a4f2892a55f1",
   "metadata": {},
   "outputs": [],
   "source": [
    "I_right_riemann = sum( [YOUR_CODE_HERE for x in YOUR_CODE_HERE] ) \n",
    "\n",
    "print(f\"Right Riemann Sum: {I_right_riemann: 0.3f}\")"
   ]
  },
  {
   "cell_type": "markdown",
   "id": "0cf7e125",
   "metadata": {},
   "source": [
    "<div style=\"background-color:#AABAB2; color: black; vertical-align: middle; padding:15px; margin: 10px; width:95%; border-radius: 10px\">\n",
    "<p>\n",
    "<b>Task 9:</b>   \n",
    "\n",
    "Complete the code cell below to visualize the right Riemman method.\n",
    "\n",
    "</p>\n",
    "</div>"
   ]
  },
  {
   "cell_type": "code",
   "execution_count": null,
   "id": "c510d26b",
   "metadata": {},
   "outputs": [],
   "source": [
    "# Right Riemann sum visualization\n",
    "plt.bar(x_values[YOUR_CODE_HERE],[f(x) for x in x_values[YOUR_CODE_HERE]],\n",
    "        width=YOUR_CODE_HERE, alpha=0.5, align='edge',\n",
    "        edgecolor='black', linewidth=0.25)\n",
    "plt.plot(x_values[YOUR_CODE_HERE],[f(x) for x in x_values[YOUR_CODE_HERE]],\n",
    "         '*', markersize='16', color='red')\n",
    "#Plot \"continuous\" function\n",
    "plt.plot(x_high_resolution, f_high_resolution, 'b')\n",
    "plt.title('Right Riemann Sum')\n",
    "plt.xlabel('x')\n",
    "plt.ylabel('$f(x)$');"
   ]
  },
  {
   "cell_type": "markdown",
   "id": "24d26cbb-ab8f-435f-8238-0c22c0fce833",
   "metadata": {},
   "source": [
    "**Midpoint Method Approximation**\n",
    "\n",
    "For a function defined with constant steps (uniform $\\Delta x$), the midpoint method approximates the integral taking the midpoint of the rectangle and splitting the width of the rectangle at this point. \n",
    "\n",
    "$$I_{_{mid}} \\approx \\sum_{i=0}^{n-1} f\\left(\\frac{x_i+x_{i+1}}{2}\\right)\\Delta x $$\n"
   ]
  },
  {
   "cell_type": "markdown",
   "id": "13d1d689",
   "metadata": {},
   "source": [
    "<div style=\"background-color:#AABAB2; color: black; vertical-align: middle; padding:15px; margin: 10px; width:95%; border-radius: 10px\">\n",
    "<p>\n",
    "<b>Task 10:</b>   \n",
    "\n",
    "Complete the code cell below to implement the midpoint sum below.\n",
    "</p>\n",
    "</div>"
   ]
  },
  {
   "cell_type": "code",
   "execution_count": null,
   "id": "7ed26ad5-d2cb-450e-873d-5b21a596cedb",
   "metadata": {},
   "outputs": [],
   "source": [
    "I_midpoint = sum([f(YOUR_CODE_HERE)*dx for i in range(YOUR_CODE_HERE)])\n",
    "print(f\"Midpoint Sum: {I_midpoint: 0.3e}\")\n",
    "\n",
    "I_midpoint = sum([f(x_at_the_middle)*dx for x_at_the_middle in YOUR_CODE_HERE ])\n",
    "print(f\"Midpoint Sum: {I_midpoint: 0.3e}\")"
   ]
  },
  {
   "cell_type": "markdown",
   "id": "e685d8c3",
   "metadata": {},
   "source": [
    "<div style=\"background-color:#AABAB2; color: black; vertical-align: middle; padding:15px; margin: 10px; width:95%; border-radius: 10px\">\n",
    "<p>\n",
    "<b>Task 11:</b>   \n",
    "\n",
    "Complete the code cell below to visualize the midpoint method.\n",
    "\n",
    "</p>\n",
    "</div>"
   ]
  },
  {
   "cell_type": "code",
   "execution_count": null,
   "id": "370672eb",
   "metadata": {},
   "outputs": [],
   "source": [
    "# Midpoint sum visualization\n",
    "plt.bar(x_values[YOUR_CODE_HERE],[f(x_at_the_middle) for x_at_the_middle in YOUR_CODE_HERE ], width=dx, alpha=0.5, align='edge', edgecolor='black', linewidth=0.25)\n",
    "plt.plot(x_values[YOUR_CODE_HERE],[f(x_at_the_middle) for x_at_the_middle in YOUR_CODE_HERE],'*',markersize='16', color='red')\n",
    "#Plot \"continuous\" function\n",
    "plt.plot(x_high_resolution, f_high_resolution, 'b')\n",
    "plt.title('Midpoint Sum')\n",
    "plt.xlabel('x')\n",
    "plt.ylabel('$f(x)$');"
   ]
  },
  {
   "cell_type": "markdown",
   "id": "fcf6f8bc-5554-4309-81ce-0433fa947e34",
   "metadata": {},
   "source": [
    "**Trapezoidal Rule**\n",
    "\n",
    "This method requires two evaluations of the function $f$ for each 'rectangle', at its left and right corners. In fact, it does not represent a 'rectangle anymore' but a trapezoid. For a 1D case, it is a rectangle with a triangle on top.  \n",
    "\n",
    "$$I_{_{trapezoid}} \\approx \\sum_{i=0}^{n-1}\\frac{f(x_i)+f(x_{i+1})}{2}\\Delta x $$"
   ]
  },
  {
   "cell_type": "markdown",
   "id": "74bb23af",
   "metadata": {},
   "source": [
    "<div style=\"background-color:#AABAB2; color: black; vertical-align: middle; padding:15px; margin: 10px; width:95%; border-radius: 10px\">\n",
    "<p>\n",
    "<b>Task 12:</b>   \n",
    "\n",
    "Complete the following code to implement the trapezoidal rule for the sum. \n",
    "\n",
    "</p>\n",
    "</div>"
   ]
  },
  {
   "cell_type": "code",
   "execution_count": null,
   "id": "b6e68930-f1d8-4d7e-8162-8cd59f985be0",
   "metadata": {},
   "outputs": [],
   "source": [
    "I_trapezoidal = sum([YOUR_CODE_HERE for i in range(len(x_values)-1)]) \n",
    "print(f\"Trapezoidal Sum: {I_trapezoidal: 0.5e}\")"
   ]
  },
  {
   "cell_type": "markdown",
   "id": "5a3a195c",
   "metadata": {},
   "source": [
    "<div style=\"background-color:#AABAB2; color: black; vertical-align: middle; padding:15px; margin: 10px; width:95%; border-radius: 10px\">\n",
    "<p>\n",
    "<b>Task 13:</b>   \n",
    "\n",
    "To visualize the trapezoidal method a plt.bar is not used rather plt_fill_between. Revise the code cell below.\n",
    "\n",
    "</p>\n",
    "</div>"
   ]
  },
  {
   "cell_type": "code",
   "execution_count": null,
   "id": "36cddace",
   "metadata": {},
   "outputs": [],
   "source": [
    "# Trapezoidal sum\n",
    "for i in range(len(x_values)-1):\n",
    "    plt.fill_between([x_values[i], x_values[i+1]], \n",
    "                     [f(x_values[i]), f(x_values[i+1])], \n",
    "                     alpha=0.5)\n",
    "\n",
    "#Plot \"continuous\" function\n",
    "plt.plot(x_high_resolution, f_high_resolution, 'b')\n",
    "plt.title('Trapezoidal Sum')\n",
    "plt.xlabel('x')\n",
    "plt.ylabel('$f(x)$');\n",
    "\n"
   ]
  },
  {
   "cell_type": "markdown",
   "id": "14295e08-e9db-4735-927d-715989b62b81",
   "metadata": {},
   "source": [
    "**Absolute errors in integral**"
   ]
  },
  {
   "cell_type": "markdown",
   "id": "d6b0720c",
   "metadata": {},
   "source": [
    "<div style=\"background-color:#AABAB2; color: black; vertical-align: middle; padding:15px; margin: 10px; width:95%; border-radius: 10px\">\n",
    "<p>\n",
    "<b>Task 14:</b>   \n",
    "\n",
    "Compute the absolute errors of each method. Are they similar to your expectatations? (i.e. corresponding to the orders of magnitude).\n",
    "\n",
    "</p>\n",
    "</div>"
   ]
  },
  {
   "cell_type": "code",
   "execution_count": null,
   "id": "582e66ed-2016-4a84-a5f4-6d01d49671dc",
   "metadata": {},
   "outputs": [],
   "source": [
    "# Calculate absolute errors\n",
    "left_riemann_error = YOUR_CODE_HERE\n",
    "right_riemann_error =  YOUR_CODE_HERE\n",
    "midpoint_error = YOUR_CODE_HERE\n",
    "trapezoidal_error = YOUR_CODE_HERE\n",
    "\n",
    "# Print the results\n",
    "print(f\"Left Riemann Error: {left_riemann_error: 0.3e}\")\n",
    "print(f\"Right Riemann Error: {right_riemann_error: 0.3e}\")\n",
    "print(f\"Midpoint Error: {midpoint_error: 0.3e}\")\n",
    "print(f\"Trapezoidal Error: {trapezoidal_error: 0.3e}\")\n"
   ]
  },
  {
   "cell_type": "markdown",
   "id": "ddc2f16f-7065-4829-aafc-91c95cc93aaf",
   "metadata": {},
   "source": [
    "**Simpson's Rule**\n",
    "\n",
    "Simpson's rule is a method that uses a quadratic approximation over an interval that allows the top bound of the area 'rectangle' to be defined by a polynomial. In general, it can be a better approximation for curved, but mathematically smooth functions. It also has the requirement that subintervals must be an even number, so this is something to be aware of when using it in practise. As a sum, it is defined as \n",
    "\n",
    "$$\\int^{b}_{a}f(x)\\mathrm{d}x\\approx \\sum_{i=1}^{n/2}\\frac{1}{3}(f(x_{2i-2})+4f(x_{2i-1})+f(x_{2i}))\\Delta x$$\n",
    "\n",
    "where $n$ must be an *even integer*.\n",
    "\n",
    " "
   ]
  },
  {
   "cell_type": "markdown",
   "id": "e0ed72e0-ced6-467c-8e01-a1b602a3613d",
   "metadata": {},
   "source": [
    "<div style=\"background-color:#AABAB2; color: black; vertical-align: middle; padding:15px; margin: 10px; width:95%; border-radius: 10px\">\n",
    "<p>\n",
    "<b>Challenge</b>\n",
    "\n",
    "Take what you have seen in the other numerical implementation codes and implement Simpson's Rule for the same integral! A redefinition of x_values is done with 9 points instead of 10 as an uneven number of points is required to apply Simpson's Rule. \n",
    "</p>\n",
    "</div>"
   ]
  },
  {
   "cell_type": "code",
   "execution_count": null,
   "id": "ae169f8e-2d5a-4449-8c53-c8ca399af184",
   "metadata": {},
   "outputs": [],
   "source": [
    "# Define Simpson's Rule here\n",
    "x_values = np.linspace(YOUR_CODE_HERE)\n",
    "dx = YOUR_CODE_HERE                      \n",
    "    \n",
    "simpson_integral = sum([ YOUR_CODE_HERE ]) \n",
    "\n",
    "# Calculate the absolute error\n",
    "simpson_error = YOUR_CODE_HERE\n",
    "\n",
    "# Print the result and error\n",
    "print(f\"Simpson's Rule Integral: {simpson_integral: 0.5e}\")\n",
    "print(f\"Simpson's Rule Absolute Error: {simpson_error: 0.5e}\")\n"
   ]
  },
  {
   "cell_type": "markdown",
   "id": "8ffe7a1f",
   "metadata": {},
   "source": [
    "<div style=\"background-color:#AABAB2; color: black; vertical-align: middle; padding:15px; margin: 10px; width:95%; border-radius: 10px\">\n",
    "<p>\n",
    "<b>Task 15:</b>  \n",
    " \n",
    "  \n",
    "Refine the number of points using the integration by left riemann until reaching a similar accuracy as for the trapezoidal rule. How much finer was your grid?\n",
    "\n",
    "</p>\n",
    "</div>"
   ]
  },
  {
   "cell_type": "markdown",
   "id": "793cb6e5",
   "metadata": {},
   "source": []
  },
  {
   "cell_type": "markdown",
   "id": "23b8f21d",
   "metadata": {},
   "source": [
    "**End of notebook.**\n",
    "<h2 style=\"height: 60px\">\n",
    "</h2>\n",
    "<h3 style=\"position: absolute; display: flex; flex-grow: 0; flex-shrink: 0; flex-direction: row-reverse; bottom: 60px; right: 50px; margin: 0; border: 0\">\n",
    "    <style>\n",
    "        .markdown {width:100%; position: relative}\n",
    "        article { position: relative }\n",
    "    </style>\n",
    "    <a rel=\"license\" href=\"http://creativecommons.org/licenses/by-nc-sa/4.0/\">\n",
    "      <img alt=\"Creative Commons License\" style=\"border-width:; width:88px; height:auto; padding-top:10px\" src=\"https://i.creativecommons.org/l/by-nc-sa/4.0/88x31.png\" />\n",
    "    </a>\n",
    "    <a rel=\"TU Delft\" href=\"https://www.tudelft.nl/en/ceg\">\n",
    "      <img alt=\"TU Delft\" style=\"border-width:0; width:100px; height:auto; padding-bottom:0px\" src=\"https://gitlab.tudelft.nl/mude/public/-/raw/main/tu-logo/TU_P1_full-color.png\"/>\n",
    "    </a>\n",
    "    <a rel=\"MUDE\" href=\"http://mude.citg.tudelft.nl/\">\n",
    "      <img alt=\"MUDE\" style=\"border-width:0; width:100px; height:auto; padding-bottom:0px\" src=\"https://gitlab.tudelft.nl/mude/public/-/raw/main/mude-logo/MUDE_Logo-small.png\"/>\n",
    "    </a>\n",
    "    \n",
    "</h3>\n",
    "<span style=\"font-size: 75%\">\n",
    "&copy; Copyright 2023 <a rel=\"MUDE Team\" href=\"https://studiegids.tudelft.nl/a101_displayCourse.do?course_id=65595\">MUDE Teaching Team</a> TU Delft. This work is licensed under a <a rel=\"license\" href=\"http://creativecommons.org/licenses/by-nc-sa/4.0/\">Creative Commons Attribution-NonCommercial-ShareAlike 4.0 International License</a>."
   ]
  }
 ],
 "metadata": {
  "kernelspec": {
   "display_name": "Python 3 (ipykernel)",
   "language": "python",
   "name": "python3"
  },
  "language_info": {
   "codemirror_mode": {
    "name": "ipython",
    "version": 3
   },
   "file_extension": ".py",
   "mimetype": "text/x-python",
   "name": "python",
   "nbconvert_exporter": "python",
   "pygments_lexer": "ipython3",
   "version": "3.12.6"
  },
  "widgets": {
   "application/vnd.jupyter.widget-state+json": {
    "state": {},
    "version_major": 2,
    "version_minor": 0
   }
  }
 },
 "nbformat": 4,
 "nbformat_minor": 5
}
