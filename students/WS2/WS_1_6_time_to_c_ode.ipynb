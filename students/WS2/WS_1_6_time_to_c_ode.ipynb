{
 "cells": [
  {
   "cell_type": "markdown",
   "id": "1d48ad6c",
   "metadata": {
    "id": "9adbf457-797f-45b7-8f8b-0e46e0e2f5ff"
   },
   "source": [
    "# WS 1.6: Understanding Ordinary Differential Equation\n",
    "\n",
    "<h1 style=\"position: absolute; display: flex; flex-grow: 0; flex-shrink: 0; flex-direction: row-reverse; top: 60px;right: 30px; margin: 0; border: 0\">\n",
    "    <style>\n",
    "        .markdown {width:100%; position: relative}\n",
    "        article { position: relative }\n",
    "    </style>\n",
    "    <img src=\"https://gitlab.tudelft.nl/mude/public/-/raw/main/tu-logo/TU_P1_full-color.png\" style=\"width:100px\" />\n",
    "    <img src=\"https://gitlab.tudelft.nl/mude/public/-/raw/main/mude-logo/MUDE_Logo-small.png\" style=\"width:100px\" />\n",
    "\n",
    "</h1>\n",
    "<h2 style=\"height: 10px\">\n",
    "</h2>\n",
    "\n",
    "*[CEGM1000 MUDE](http://mude.citg.tudelft.nl/): Week 1.6. For: 9th October, 2024.*"
   ]
  },
  {
   "cell_type": "markdown",
   "id": "366ef404",
   "metadata": {},
   "source": [
    "## Overview\n",
    "\n",
    "\n",
    "This assignment is aimed to develop an understanding of the **Ordinary Differential Equation (ODE)**. There will be two sections about cooling and heating scenerios, corresponding to the first-order and the second-order ODEs. Please go through the text that follows and perform all steps outlined therein.\n",
    "\n",
    "## Part 1: First-order ODE\n",
    "\n",
    "In the study of heat transfer, **Newton's law of cooling** is a physical law which states that the rate of heat loss of a body is directly proportional to the difference in the temperatures between the body and its environment. It can be expressed in the form of ODE, as below:\n",
    "\n",
    "$$\\frac{dT}{dt}=-k(T - T_s)$$\n",
    "\n",
    "where $T$ is the temperature of the object at time $t$, $T_s$ is the temperature of the surrounding and assumed to be constant, and $k$ is the constant that characterizes the ability of the object to exchange the\n",
    "heat energy (unit 1/s), which depends on the specific material properties.\n",
    "\n",
    "\n",
    "Now, Let's consider an object with the initial temperature of  50°C in a surrounding environment with constant temperature at 20°C. The constant of heat exchange between the object and the environment is 0.5 $s^{-1}$.\n"
   ]
  },
  {
   "cell_type": "markdown",
   "id": "73781a3c",
   "metadata": {},
   "source": [
    "<div style=\"background-color:#AABAB2; color: black; width:95%; vertical-align: middle; padding:15px; margin: 10px; border-radius: 10px\">\n",
    "<p>\n",
    "<b>Task 1.1:</b>\n",
    " \n",
    "Suppose the considered period of time is long enough (bring it to steady state), what will be the final temperature of the object? \n",
    "    \n",
    "**Write your answer in the following markdown cell.**\n",
    " \n",
    "</p>\n",
    "</div>"
   ]
  },
  {
   "cell_type": "markdown",
   "id": "3081d88d",
   "metadata": {},
   "source": []
  },
  {
   "cell_type": "markdown",
   "id": "06320ed9",
   "metadata": {},
   "source": [
    "Next, let's evaluate the temperature of the object by checking it at a series of time points."
   ]
  },
  {
   "cell_type": "markdown",
   "id": "18cbde20",
   "metadata": {},
   "source": [
    "<div style=\"background-color:#AABAB2; color: black; width:95%; vertical-align: middle; padding:15px; margin: 10px; border-radius: 10px\">\n",
    "<p>\n",
    "<b>Task 1.2:</b>\n",
    "\n",
    "Write the algebraic representation of the ODE using Explicit Euler.\n",
    " \n",
    "</p>\n",
    "</div>"
   ]
  },
  {
   "cell_type": "markdown",
   "id": "bec070a5",
   "metadata": {},
   "source": []
  },
  {
   "cell_type": "markdown",
   "id": "579a9440",
   "metadata": {},
   "source": [
    "<div style=\"background-color:#AABAB2; color: black; width:95%; vertical-align: middle; padding:15px; margin: 10px; border-radius: 10px\">\n",
    "<p>\n",
    "<b>Task 1.3:</b>\n",
    "\n",
    "Compute the temperature evolution in the next 60 seconds.\n",
    "\n",
    "**Please complete the missing parts of the code in each step below, which is divided into 5 substeps (a through e).**\n",
    " \n",
    "</p>\n",
    "</div>"
   ]
  },
  {
   "cell_type": "markdown",
   "id": "88b861bc",
   "metadata": {},
   "source": [
    "<div style=\"background-color:#AABAB2; color: black; width:95%; vertical-align: middle; padding:15px; margin: 10px; border-radius: 10px\">\n",
    "<p>\n",
    "<b>Task 1.3a:</b> \n",
    "\n",
    "The time step of 5 seconds is constant. Discretize the time points, the solution vector $T$ and define the initial condition.\n",
    " \n",
    "</p>\n",
    "</div>"
   ]
  },
  {
   "cell_type": "code",
   "execution_count": 20,
   "id": "b44aa057",
   "metadata": {},
   "outputs": [],
   "source": [
    "import numpy as np\n",
    "import matplotlib.pyplot as plt\n",
    "\n",
    "dt =YOUR_CODE_HERE                          \n",
    "t_end =YOUR_CODE_HERE  \n",
    "Ts =  20       # [C] \n",
    "k = 0.5        # [s^-1]\n",
    "\n",
    "t = YOUR_CODE_HERE\n",
    "n = YOUR_CODE_HERE\n",
    "T = YOUR_CODE_HERE\n",
    "T[0] = YOUR_CODE_HERE\n",
    "\n"
   ]
  },
  {
   "cell_type": "markdown",
   "id": "4586d4b6",
   "metadata": {},
   "source": [
    "<div style=\"background-color:#AABAB2; color: black; width:95%; vertical-align: middle; padding:15px; margin: 10px; border-radius: 10px\">\n",
    "<p>\n",
    "<b>Task 1.3b:</b> \n",
    "\n",
    "Implement your time discretization and find the solution from $t=0$ until $t=60$ sec. \n",
    " \n",
    "</p>\n",
    "</div>"
   ]
  },
  {
   "cell_type": "code",
   "execution_count": null,
   "id": "0bf8247e",
   "metadata": {
    "scrolled": false
   },
   "outputs": [],
   "source": [
    "for i in range(n-1):\n",
    "    T[i+1] = YOUR_CODE_HERE\n",
    "    \n",
    "plt.plot(t, T, 'o-')\n",
    "plt.xlabel('t (s)')\n",
    "plt.ylabel('T (deg)')\n",
    "plt.grid()"
   ]
  },
  {
   "cell_type": "markdown",
   "id": "ffb4547f",
   "metadata": {},
   "source": [
    "<div style=\"background-color:#AABAB2; color: black; width:95%; vertical-align: middle; padding:15px; margin: 10px; border-radius: 10px\">\n",
    "<p>\n",
    "<b>Task 1.3c:</b>\n",
    "\n",
    "Try different time steps to check the stability of the calculation. At which value the solution is stable?\n",
    " \n",
    "</p>\n",
    "</div>"
   ]
  },
  {
   "cell_type": "markdown",
   "id": "59bcbb0a",
   "metadata": {},
   "source": []
  },
  {
   "cell_type": "markdown",
   "id": "8a907a09",
   "metadata": {},
   "source": [
    "<div style=\"background-color:#AABAB2; color: black; width:95%; vertical-align: middle; padding:15px; margin: 10px; border-radius: 10px\">\n",
    "<p>\n",
    "<b>Task 1.3d:</b>\n",
    "\n",
    "Obtain the mathematical expression that proves your stability criteria.\n",
    " \n",
    "</p>\n",
    "</div>"
   ]
  },
  {
   "cell_type": "markdown",
   "id": "eb00c9ab",
   "metadata": {},
   "source": []
  },
  {
   "cell_type": "markdown",
   "id": "1ff1e4fe",
   "metadata": {},
   "source": [
    "<div style=\"background-color:#AABAB2; color: black; width:95%; vertical-align: middle; padding:15px; margin: 10px; border-radius: 10px\">\n",
    "<p>\n",
    "<b>Task 1.3e:</b>\n",
    "\n",
    "Now, discretize the equation using Implicit (Backward) Euler. Can you find a time step that makes the problem unstable?\n",
    " \n",
    "</p>\n",
    "</div>"
   ]
  },
  {
   "cell_type": "code",
   "execution_count": null,
   "id": "18c73272",
   "metadata": {},
   "outputs": [],
   "source": [
    "dt = YOUR_CODE_HERE                          \n",
    "t_end = 60  \n",
    "Ts =  20       # [C] \n",
    "k = 0.5        # [s^-1]\n",
    "\n",
    "t = YOUR_CODE_HERE\n",
    "n = YOUR_CODE_HERE\n",
    "T = YOUR_CODE_HERE\n",
    "T[0] = YOUR_CODE_HERE\n",
    "\n",
    "for i in range(n-1):\n",
    "    T[i+1] = YOUR_CODE_HERE \n",
    "    \n",
    "plt.plot(t, T, 'o-')\n",
    "plt.xlabel('t (s)')\n",
    "plt.ylabel('T (deg)')\n",
    "plt.grid()"
   ]
  },
  {
   "cell_type": "markdown",
   "id": "2109f010",
   "metadata": {},
   "source": [
    "## Part 2: Second-order ODE\n",
    "\n",
    "The following 1D equation describes the steady state solution of the temperature along a pin that sticks out of a furnace. The rest of the pin is exposed to the ambient. \n",
    "\n",
    "$$\n",
    "\\frac{d^2T}{dx^2} -\\alpha(T-T_s)=0\n",
    "$$\n",
    "\n",
    "The ambient temperature is $T_s= 30^o$ C and the temperature at the wall is $250^o$ C. The length of the pin is 0.1m. Your grid should have a spatial step of 0.02 m. Finally, $\\alpha=500$."
   ]
  },
  {
   "cell_type": "markdown",
   "id": "5bf9639d",
   "metadata": {},
   "source": [
    "\n",
    "The solution includes the steps:\n",
    "1. Use the Taylor series to obtain an approximation for the derivatives;\n",
    "2. Discretize the equation;\n",
    "3. Define parameters and grid;\n",
    "4. Provide boundary conditions;\n",
    "5. Build matrix with solution $AT=b$\n",
    "6. Solve the matrix"
   ]
  },
  {
   "cell_type": "markdown",
   "id": "babd0424",
   "metadata": {},
   "source": [
    "<div style=\"background-color:#AABAB2; color: black; width:95%;vertical-align: middle; padding:15px; margin: 10px; border-radius: 10px\">\n",
    "<p>\n",
    "<b>Task 2.1:</b>\n",
    "\n",
    "This task has three parts: a) discretize the analytic expression into a system of equations using central differences, b) write the system of equations by hand (e.g., the matrices), and c) implement the discretized system of equations in a code cell.\n",
    "\n",
    "<em>Parts 2.1b and 2.1c do not need to be completed in order; in fact, it may be useful to go back and forth between the two in order to understand the problem.</em> \n",
    "    \n"
   ]
  },
  {
   "cell_type": "markdown",
   "id": "1f70b8e9",
   "metadata": {},
   "source": [
    "<div style=\"background-color:#AABAB2; color: black; width:95%;vertical-align: middle; padding:15px; margin: 10px; border-radius: 10px\">\n",
    "<p>\n",
    "<b>Task 2.1a:</b>\n",
    "\n",
    "Discretize the analytic expression into a system of equations for a grid with 6 points using central differences.\n",
    "\n",
    "<em>Write your answer by hand using paper/tablet and include the image below.</em>\n",
    "    \n"
   ]
  },
  {
   "cell_type": "markdown",
   "id": "81a5f165",
   "metadata": {},
   "source": [
    "_Your answer here._"
   ]
  },
  {
   "cell_type": "markdown",
   "id": "c513ff65",
   "metadata": {},
   "source": [
    "<div style=\"background-color:#AABAB2; color: black; width:95%;vertical-align: middle; padding:15px; margin: 10px; border-radius: 10px\">\n",
    "<p>\n",
    "<b>Task 2.1b:</b>\n",
    "\n",
    "Write the system of equations by hand for a grid with 6 points. In other words, construct the matrix A and vectors T and b.\n",
    "\n",
    "<em>Write your answer by hand using paper/tablet and include the image below.</em>\n",
    "    \n"
   ]
  },
  {
   "cell_type": "markdown",
   "id": "cb9ff085",
   "metadata": {},
   "source": [
    "_Your answer here._"
   ]
  },
  {
   "cell_type": "markdown",
   "id": "fae61d18",
   "metadata": {},
   "source": [
    "<div style=\"background-color:#AABAB2; color: black; width:95%;vertical-align: middle; padding:15px; margin: 10px; border-radius: 10px\">\n",
    "<p>\n",
    "<b>Task 2.1c:</b>\n",
    "\n",
    "Implement the discretized system of equations in a code cell.\n",
    "\n",
    "<em>We have already done this for you! Your task is to read the cell and make sure you understand how the matrices are implemented. Reading the code should help you formulate the matrices in Task 2.1b.</em>\n",
    "    \n"
   ]
  },
  {
   "cell_type": "markdown",
   "id": "89fd190c",
   "metadata": {},
   "source": [
    "_Add your image here._"
   ]
  },
  {
   "cell_type": "code",
   "execution_count": null,
   "id": "53fb4f99",
   "metadata": {},
   "outputs": [],
   "source": [
    "import numpy as np \n",
    "import matplotlib.pyplot as plt\n",
    "\n",
    "Ts = 30\n",
    "alpha = 500\n",
    "dx=0.02\n",
    "\n",
    "# grid creation\n",
    "x = np.arange(0,0.1+dx,dx)\n",
    "T = np.zeros(x.shape)\n",
    "n=len(x)\n",
    "\n",
    "# boundary conditions\n",
    "T[0] = 250\n",
    "T[-1] = Ts\n",
    "\n",
    "# Building matrix A\n",
    "matrix_element = -(2+dx**2*alpha)\n",
    "A = np.zeros((len(x)-2,len(x)-2))\n",
    "np.fill_diagonal(A, matrix_element)\n",
    "A[np.arange(n-3), np.arange(1, n-2)] = 1  # Upper diagonal\n",
    "A[np.arange(1, n-2), np.arange(n-3)] = 1  # Lower diagonal\n",
    "print(A.shape)\n",
    "# Building vector b\n",
    "b_element = -dx**2*alpha*Ts\n",
    "b = np.zeros(len(x)-2) + b_element\n",
    "b[0] = b[0] - T[0]\n",
    "b[-1] = b[-1] - T[-1]\n",
    "\n",
    "# Solving the system\n",
    "T[1:-1] = np.linalg.solve(A,b)\n",
    "\n",
    "plt.plot(x,T,'*',label='Estimated solution')\n",
    "plt.xlabel('x')\n",
    "plt.ylabel('T')\n",
    "plt.title('Estimated solution using Central Difference method')\n",
    "plt.legend()\n",
    "plt.show()\n",
    "\n",
    "print(f'The estimated temperature at the nodes are: {[f\"{temp:.2f}\" for temp in T]} [C]')"
   ]
  },
  {
   "cell_type": "markdown",
   "id": "fab32745",
   "metadata": {},
   "source": [
    "\n",
    "\n",
    "<div style=\"background-color:#AABAB2; color: black; width:95%; vertical-align: middle; padding:15px; margin: 10px; border-radius: 10px\">\n",
    "<p>\n",
    "<b>Task 2.2:</b>\n",
    "\n",
    "This task will adapt the problem from 2.1 to incorporate Neumann boundary conditions in three steps: a) writing the new matrix by hand, b) adapting the code from 2.1c, c) reflecting on what this represents physically.\n",
    "\n",
    "</p>\n",
    "</div>"
   ]
  },
  {
   "cell_type": "markdown",
   "id": "97594dc4",
   "metadata": {},
   "source": [
    "<div style=\"background-color:#AABAB2; color: black; width:95%;vertical-align: middle; padding:15px; margin: 10px; border-radius: 10px\">\n",
    "<p>\n",
    "<b>Task 2.2a:</b>\n",
    "\n",
    "Write the system of equations by hand for a grid with 6 points, incorporating the Neumann condition.\n",
    "\n",
    "Approximate the Neuman boundary $\\frac{dT}{dx}=0$ by using the Backward difference for first order differential equation of first order accuracy.\n",
    "\n",
    "<em>Write your answer by hand using paper/tablet and include the image below.</em>\n",
    "    \n"
   ]
  },
  {
   "cell_type": "markdown",
   "id": "82e00391",
   "metadata": {},
   "source": [
    "_Your answer here._"
   ]
  },
  {
   "cell_type": "markdown",
   "id": "5dbe120c",
   "metadata": {},
   "source": [
    "\n",
    "\n",
    "<div style=\"background-color:#AABAB2; color: black; width:95%; vertical-align: middle; padding:15px; margin: 10px; border-radius: 10px\">\n",
    "<p>\n",
    "<b>Task 2.2b:</b>\n",
    "\n",
    "Now adapt the code from Task 2.1c and revise it to incorporate the Neumann boundary condition.\n",
    "\n",
    "<em>Copy and past the code from 2.1c below, then modify it.</em>\n",
    "\n",
    "</p>\n",
    "</div>"
   ]
  },
  {
   "cell_type": "code",
   "execution_count": null,
   "id": "ac2255d4",
   "metadata": {},
   "outputs": [],
   "source": [
    "YOUR_CODE_HERE"
   ]
  },
  {
   "cell_type": "markdown",
   "id": "cf1cd521",
   "metadata": {},
   "source": [
    "\n",
    "\n",
    "<div style=\"background-color:#AABAB2; color: black; width:95%; vertical-align: middle; padding:15px; margin: 10px; border-radius: 10px\">\n",
    "<p>\n",
    "<b>Task 2.2c:</b>\n",
    "\n",
    "Reflect on the difference between the problem solved in Task 2.1 in comparison to 2.2. How are we changing the physics of the problem being solved by changing the boundary condition? What does this mean in reality for the temperature distribution in the bar over time?\n",
    "\n",
    "</p>\n",
    "</div>"
   ]
  },
  {
   "cell_type": "markdown",
   "id": "891da8f3",
   "metadata": {},
   "source": []
  },
  {
   "cell_type": "code",
   "execution_count": null,
   "id": "cfcd00f9",
   "metadata": {},
   "outputs": [],
   "source": [
    "Ts = 30\n",
    "alpha = 500\n",
    "dx=0.02\n",
    " \n",
    "# grid creation\n",
    "x = np.arange(0,0.1+dx,dx)\n",
    "T = np.zeros(x.shape)\n",
    "n=len(x)\n",
    " \n",
    "# boundary conditions\n",
    "T[0] = 250\n",
    " \n",
    " \n",
    "# Building matrix A\n",
    "matrix_element = -(2+dx**2*alpha)\n",
    "A = np.zeros((len(x)-2,len(x)-2))\n",
    "np.fill_diagonal(A, matrix_element)\n",
    "A[np.arange(n-3), np.arange(1, n-2)] = 1  # Upper diagonal\n",
    "A[np.arange(1, n-2), np.arange(n-3)] = 1  # Lower diagonal\n",
    "print(A.shape)\n",
    "A[-1,-1] = -(1+dx**2*alpha)  #the matrix changes\n",
    " \n",
    "# Building vector b\n",
    "b_element = -dx**2*alpha*Ts\n",
    "b = np.zeros(len(x)-2) + b_element\n",
    "b[0] = b[0] - T[0]\n",
    "b[-1] = b[-1]               #the vector b also changes\n",
    " \n",
    "# Solving the system\n",
    "\n",
    "T[1:-1] = np.linalg.solve(A,b)\n",
    "T[-1] = T[-2]  \n",
    "\n",
    "plt.plot(x,T,'*',label='Estimated solution')\n",
    "plt.xlabel('x')\n",
    "plt.ylabel('T')\n",
    "plt.title('Estimated solution using Central Difference method')\n",
    "plt.legend()\n",
    "plt.show()\n",
    " \n",
    "print(f'The estimated temperature at the nodes are: {[f\"{temp:.2f}\" for temp in T]} [C]')"
   ]
  },
  {
   "cell_type": "markdown",
   "id": "57632792",
   "metadata": {},
   "source": [
    "<div style=\"background-color:#AABAB2; color: black; width:95%;vertical-align: middle; padding:15px; margin: 10px; border-radius: 10px\">\n",
    "<p>\n",
    "<b>Task 2.3:</b>\n",
    "\n",
    "Just as we did in Task 2.1, this task has three parts: a) discretize the analytic expression into a system of equations using <b>forward differences</b>, b) write the system of equations by hand (e.g., the matrices), and c) implement the discretized system of equations in a code cell.\n",
    "\n",
    "Here we focus on <b>Dirichlet</b> conditions again.\n",
    "</div>    \n"
   ]
  },
  {
   "cell_type": "markdown",
   "id": "2d4b9fb9",
   "metadata": {},
   "source": [
    "<div style=\"background-color:#AABAB2; color: black; width:95%;vertical-align: middle; padding:15px; margin: 10px; border-radius: 10px\">\n",
    "<p>\n",
    "<b>Task 2.3a:</b>\n",
    "\n",
    "Discretize the analytic expression into a system of equations for a grid with 6 points using <b>forward differences</b>.\n",
    "\n",
    "<em>Write your answer by hand using paper/tablet and include the image below.</em>\n",
    "    \n"
   ]
  },
  {
   "cell_type": "markdown",
   "id": "1c5ec2f2",
   "metadata": {},
   "source": [
    "_Your answer here._"
   ]
  },
  {
   "cell_type": "markdown",
   "id": "361f1638",
   "metadata": {},
   "source": [
    "<div style=\"background-color:#AABAB2; color: black; width:95%;vertical-align: middle; padding:15px; margin: 10px; border-radius: 10px\">\n",
    "<p>\n",
    "<b>Task 2.3b:</b>\n",
    "\n",
    "Write the system of equations by hand for a grid with 6 points. In other words, construct the matrix A and vectors T and b.\n",
    "\n",
    "<em>Write your answer by hand using paper/tablet and include the image below.</em>\n",
    "    \n"
   ]
  },
  {
   "cell_type": "markdown",
   "id": "047a38d3",
   "metadata": {},
   "source": [
    "_Your answer here._"
   ]
  },
  {
   "cell_type": "markdown",
   "id": "3996b611",
   "metadata": {},
   "source": [
    "<div style=\"background-color:#AABAB2; color: black; width:95%;vertical-align: middle; padding:15px; margin: 10px; border-radius: 10px\">\n",
    "<p>\n",
    "<b>Task 2.3c:</b>\n",
    "\n",
    "Implement the discretized system of equations in a code cell.\n",
    "\n",
    "<b>This time we did not do it for you!</b> Copy the code from Task 2.1c and revise it to solve the system of equations using <b>Forward Differences</b>. Keep the Dirichlet conditions.\n",
    "    \n"
   ]
  },
  {
   "cell_type": "code",
   "execution_count": null,
   "id": "1e783d3e",
   "metadata": {},
   "outputs": [],
   "source": [
    "YOUR_CODE_HERE"
   ]
  },
  {
   "cell_type": "markdown",
   "id": "bac6bb0f",
   "metadata": {},
   "source": [
    "<div style=\"background-color:#AABAB2; color: black; width:95%; vertical-align: middle; padding:15px; margin: 10px; border-radius: 10px\">\n",
    "<p>\n",
    "<b>Task 2.4:</b>\n",
    "\n",
    "How much finer does your grid has to be in the forward difference implementation to get a similar value at x = 0.02 as in the central difference implementation? Vary your dx.\n",
    "\n",
    "\n",
    "</p>\n",
    "</div>"
   ]
  },
  {
   "cell_type": "markdown",
   "id": "dd2ead47",
   "metadata": {},
   "source": [
    "_Your answer here._"
   ]
  },
  {
   "cell_type": "markdown",
   "id": "031dca37",
   "metadata": {},
   "source": [
    "<div style=\"background-color:#AABAB2; color: black; width:95%; vertical-align: middle; padding:15px; margin: 10px; width:95%; border-radius: 10px\">\n",
    "<p>\n",
    "<b>Bonus Task</b> \n",
    "    \n",
    "The matrix inversion using numpy is one way to solve the system, another is the <code>gauss_jordan</code> method, written below, and another one is the sparse matrix-based method in the cell afterwards. Here, we will just have a brief comparison to see how these solvers perform when the matrix is large. Change <code>dx</code> to 0.0002 of the original code that solves the second degree ODE and test the time it takes by each method.\n",
    "    \n",
    "</p>\n",
    "</div>"
   ]
  },
  {
   "cell_type": "code",
   "execution_count": 107,
   "id": "5f7cdec7",
   "metadata": {},
   "outputs": [],
   "source": [
    "def gauss_jordan(A, b):\n",
    "    \"\"\"\n",
    "    Solves the system of linear equations Ax = b using Gauss-Jordan elimination.\n",
    "    \n",
    "    Parameters:\n",
    "    A (numpy.ndarray): Coefficient matrix (n x n).\n",
    "    b (numpy.ndarray): Right-hand side vector (n).\n",
    "    \n",
    "    Returns:\n",
    "    numpy.ndarray: Solution vector (x) if the system has a unique solution.\n",
    "    \"\"\"\n",
    "    # Form the augmented matrix [A | b]\n",
    "    A = np.array(A, dtype=float)\n",
    "    b = np.array(b, dtype=float)\n",
    "    aug_matrix = np.hstack([A, b.reshape(-1, 1)])\n",
    "    \n",
    "    n = len(b)  # Number of rows (or variables)\n",
    "    \n",
    "    for i in range(n):\n",
    "        # Partial pivoting to handle zero diagonal elements (optional, but more robust)\n",
    "        max_row = np.argmax(np.abs(aug_matrix[i:, i])) + i\n",
    "        if aug_matrix[max_row, i] == 0:\n",
    "            raise ValueError(\"The matrix is singular and cannot be solved.\")\n",
    "        if max_row != i:\n",
    "            aug_matrix[[i, max_row]] = aug_matrix[[max_row, i]]\n",
    "        \n",
    "        # Make the diagonal element 1\n",
    "        aug_matrix[i] = aug_matrix[i] / aug_matrix[i, i]\n",
    "        \n",
    "        # Make all other elements in the current column 0\n",
    "        for j in range(n):\n",
    "            if j != i:\n",
    "                aug_matrix[j] -= aug_matrix[j, i] * aug_matrix[i]\n",
    "    \n",
    "    # Extract the solution (last column of the augmented matrix)\n",
    "    return aug_matrix[:, -1]"
   ]
  },
  {
   "cell_type": "code",
   "execution_count": null,
   "id": "fbd32c69",
   "metadata": {},
   "outputs": [],
   "source": [
    "import time\n",
    "from scipy.sparse import csc_matrix\n",
    "from scipy.sparse.linalg import spsolve\n",
    "\n",
    "# Inverted matrix solution\n",
    "start_time = time.time()\n",
    "A_inv = np.linalg.inv(A)\n",
    "T[1:-1] = A_inv @ b\n",
    "time_used_0 = time.time() - start_time\n",
    "print(f\"The time used by direct matrix inversion solution is {time_used_0: 0.3e} sec\")\n",
    "assert np.allclose(np.dot(A, T[1:-1]), b), \"Oops! The calculation is wrong..\"\n",
    "\n",
    "\n",
    "# Gauss-jordan solution\n",
    "start_time = time.time()\n",
    "u1 = gauss_jordan(A, b)\n",
    "time_used_1 = time.time() - start_time\n",
    "print(f\"The time used by Gauss-jordan solution is {time_used_1: 0.3e} sec\")\n",
    "#Check if the solution is correct:\n",
    "assert np.allclose(np.dot(A, u1), b), \"Oops! The calculation is wrong..\"\n",
    "\n",
    "# Solution by a sparse matrix solver \n",
    "start_time = time.time()\n",
    "A_sparse = csc_matrix(A)# Convert A to a compressed sparse column (CSC) matrix\n",
    "u2 = spsolve(A_sparse, b)\n",
    "time_used_2 = time.time() - start_time\n",
    "print(f\"The time used by the sparse matrix solver is {time_used_2: 0.3e} sec\")\n",
    "#Check if the solution is correct:\n",
    "assert np.allclose(np.dot(A, u2), b), \"Oops! The calculation is wrong..\""
   ]
  },
  {
   "cell_type": "markdown",
   "id": "2921b3f2",
   "metadata": {},
   "source": [
    "**End of notebook.**\n",
    "<h2 style=\"height: 60px\">\n",
    "</h2>\n",
    "<h3 style=\"position: absolute; display: flex; flex-grow: 0; flex-shrink: 0; flex-direction: row-reverse; bottom: 60px; right: 50px; margin: 0; border: 0\">\n",
    "    <style>\n",
    "        .markdown {width:100%; position: relative}\n",
    "        article { position: relative }\n",
    "    </style>\n",
    "    <a rel=\"license\" href=\"http://creativecommons.org/licenses/by-nc-sa/4.0/\">\n",
    "      <img alt=\"Creative Commons License\" style=\"border-width:; width:88px; height:auto; padding-top:10px\" src=\"https://i.creativecommons.org/l/by-nc-sa/4.0/88x31.png\" />\n",
    "    </a>\n",
    "    <a rel=\"TU Delft\" href=\"https://www.tudelft.nl/en/ceg\">\n",
    "      <img alt=\"TU Delft\" style=\"border-width:0; width:100px; height:auto; padding-bottom:0px\" src=\"https://gitlab.tudelft.nl/mude/public/-/raw/main/tu-logo/TU_P1_full-color.png\"/>\n",
    "    </a>\n",
    "    <a rel=\"MUDE\" href=\"http://mude.citg.tudelft.nl/\">\n",
    "      <img alt=\"MUDE\" style=\"border-width:0; width:100px; height:auto; padding-bottom:0px\" src=\"https://gitlab.tudelft.nl/mude/public/-/raw/main/mude-logo/MUDE_Logo-small.png\"/>\n",
    "    </a>\n",
    "    \n",
    "</h3>\n",
    "<span style=\"font-size: 75%\">\n",
    "&copy; Copyright 2023 <a rel=\"MUDE Team\" href=\"https://studiegids.tudelft.nl/a101_displayCourse.do?course_id=65595\">MUDE Teaching Team</a> TU Delft. This work is licensed under a <a rel=\"license\" href=\"http://creativecommons.org/licenses/by-nc-sa/4.0/\">Creative Commons Attribution-NonCommercial-ShareAlike 4.0 International License</a>."
   ]
  }
 ],
 "metadata": {
  "kernelspec": {
   "display_name": "mude-base",
   "language": "python",
   "name": "python3"
  },
  "language_info": {
   "codemirror_mode": {
    "name": "ipython",
    "version": 3
   },
   "file_extension": ".py",
   "mimetype": "text/x-python",
   "name": "python",
   "nbconvert_exporter": "python",
   "pygments_lexer": "ipython3",
   "version": "3.12.4"
  },
  "latex_envs": {
   "LaTeX_envs_menu_present": true,
   "autoclose": false,
   "autocomplete": true,
   "bibliofile": "biblio.bib",
   "cite_by": "apalike",
   "current_citInitial": 1,
   "eqLabelWithNumbers": true,
   "eqNumInitial": 1,
   "hotkeys": {
    "equation": "Ctrl-E",
    "itemize": "Ctrl-I"
   },
   "labels_anchors": false,
   "latex_user_defs": false,
   "report_style_numbering": false,
   "user_envs_cfg": false
  },
  "widgets": {
   "application/vnd.jupyter.widget-state+json": {
    "state": {},
    "version_major": 2,
    "version_minor": 0
   }
  }
 },
 "nbformat": 4,
 "nbformat_minor": 5
}
